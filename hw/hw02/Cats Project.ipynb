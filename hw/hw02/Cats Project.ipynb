{
 "cells": [
  {
   "cell_type": "code",
   "execution_count": null,
   "metadata": {},
   "outputs": [],
   "source": [
    "# Problem 2"
   ]
  },
  {
   "cell_type": "code",
   "execution_count": null,
   "metadata": {},
   "outputs": [],
   "source": [
    "def choose(paragraphs, select, k):\n",
    "    \"\"\"Return the Kth paragraph from PARAGRAPHS for which SELECT called on the\n",
    "    paragraph returns true. If there are fewer than K such paragraphs, return\n",
    "    the empty string.\n",
    "    \"\"\"\n",
    "    valid_paragraph = [] \n",
    "\n",
    "    for i in range(len(paragraphs)): # loop paragraph list by index to append instance that return True.\n",
    "        if select(paragraphs[i]) == True: \n",
    "            valid_paragraph = valid_paragraph + [paragraphs[i]] \n",
    "                                                                \n",
    "    if len(valid_paragraph) >= k+1: # To be able to select k_th instance in a list, the length of the list has to be k+1\n",
    "        return valid_paragraph[k] \n",
    "    else:\n",
    "        return '' \n",
    "    \n",
    "def about(topic):\n",
    "    \"\"\"Return a select function that returns whether a paragraph contains one\n",
    "    of the words in TOPIC.\n",
    "\n",
    "    >>> about_dogs = about(['dog', 'dogs', 'pup', 'puppy'])\n",
    "    >>> choose(['Cute Dog!', 'That is a cat.', 'Nice pup!'], about_dogs, 0)\n",
    "    'Cute Dog!'\n",
    "    >>> choose(['Cute Dog!', 'That is a cat.', 'Nice pup.'], about_dogs, 1)\n",
    "    'Nice pup.'\n",
    "    \"\"\"\n",
    "    assert all([lower(x) == x for x in topic]), 'topics should be lowercase.'\n",
    "    # BEGIN PROBLEM 2\n",
    "    \"*** YOUR CODE HERE ***\"\n",
    "    def select(paragraph):\n",
    "        for words in topic:\n",
    "            if words in paragraph:\n",
    "                return True\n",
    "        \n",
    "        return False\n",
    "                \n",
    "    \n",
    "    return select"
   ]
  },
  {
   "cell_type": "code",
   "execution_count": null,
   "metadata": {},
   "outputs": [],
   "source": [
    "topic = ['dogs', 'hounds','cats']\n",
    "paragraph = 'A paragraph about cats.'\n",
    "for words in topic:\n",
    "    if words in paragraph:\n",
    "        print(words)"
   ]
  },
  {
   "cell_type": "code",
   "execution_count": null,
   "metadata": {},
   "outputs": [],
   "source": [
    "if \"Z\" in 'A paragraph about cats.':\n",
    "    print('Yes')\n",
    "else:\n",
    "    print('No')"
   ]
  },
  {
   "cell_type": "code",
   "execution_count": null,
   "metadata": {},
   "outputs": [],
   "source": [
    "words = \"hi\"\n",
    "ls = [\"hi\", \"12312\"]\n",
    "if words in ls:\n",
    "    print('Yes')\n",
    "else:\n",
    "    print('No')"
   ]
  },
  {
   "cell_type": "code",
   "execution_count": null,
   "metadata": {},
   "outputs": [],
   "source": [
    "# Note\n",
    "# you need to use functions in util.py"
   ]
  },
  {
   "cell_type": "code",
   "execution_count": null,
   "metadata": {},
   "outputs": [],
   "source": [
    "# Problem 3\n",
    "ls = [\" a b \\tc\" , \"a b c\"]"
   ]
  },
  {
   "cell_type": "code",
   "execution_count": null,
   "metadata": {},
   "outputs": [],
   "source": [
    "print(ls)"
   ]
  },
  {
   "cell_type": "code",
   "execution_count": null,
   "metadata": {},
   "outputs": [],
   "source": [
    "typed_list = []\n",
    "reference_word = [\"12345\"]\n",
    "for typed_word in typed_list:\n",
    "    print(typed_word)\n",
    "    if typed_word in reference_word:\n",
    "        print('Yes')\n",
    "    else:\n",
    "        print('No')"
   ]
  },
  {
   "cell_type": "code",
   "execution_count": null,
   "metadata": {},
   "outputs": [],
   "source": [
    "# Learning:\n",
    "# I often confuse about \"word\" and [\"word\"]. one is a string. one is a list containing a string"
   ]
  },
  {
   "cell_type": "code",
   "execution_count": null,
   "metadata": {},
   "outputs": [],
   "source": [
    "import string as s"
   ]
  },
  {
   "cell_type": "code",
   "execution_count": null,
   "metadata": {},
   "outputs": [],
   "source": [
    "split(\"a  b  c  d\")"
   ]
  },
  {
   "cell_type": "code",
   "execution_count": null,
   "metadata": {},
   "outputs": [],
   "source": [
    "typed = \"a  b  c  d\"\n",
    "reference = \"b  a  c  d\"\n",
    "typed[2]"
   ]
  },
  {
   "cell_type": "code",
   "execution_count": null,
   "metadata": {},
   "outputs": [],
   "source": [
    "for i in range(len(typed)):\n",
    "    if typed[i] == \" \" and typed[i+1] == \" \":\n",
    "        typed = typed[:i] + \"SPACE\" + typed[i+1:]\n",
    "\n",
    "        \n",
    "print(typed)\n",
    "\n",
    "        "
   ]
  },
  {
   "cell_type": "code",
   "execution_count": null,
   "metadata": {},
   "outputs": [],
   "source": [
    "a_string = \"aba\"\n",
    "a_string = a_string. replace(\"a\", \"b\") \n",
    "a_string"
   ]
  },
  {
   "cell_type": "code",
   "execution_count": null,
   "metadata": {},
   "outputs": [],
   "source": [
    "ls = [1,2,3]\n",
    "ls[0] = 3"
   ]
  },
  {
   "cell_type": "code",
   "execution_count": null,
   "metadata": {},
   "outputs": [],
   "source": [
    "ls"
   ]
  },
  {
   "cell_type": "code",
   "execution_count": null,
   "metadata": {},
   "outputs": [],
   "source": [
    "ls = [\"\\tc\"]"
   ]
  },
  {
   "cell_type": "code",
   "execution_count": null,
   "metadata": {},
   "outputs": [],
   "source": [
    "ls"
   ]
  },
  {
   "cell_type": "code",
   "execution_count": 4,
   "metadata": {},
   "outputs": [],
   "source": [
    "import string \n"
   ]
  },
  {
   "cell_type": "code",
   "execution_count": 15,
   "metadata": {},
   "outputs": [
    {
     "data": {
      "text/plain": [
       "['a', '', 'b', 'c']"
      ]
     },
     "execution_count": 15,
     "metadata": {},
     "output_type": "execute_result"
    }
   ],
   "source": [
    "str.split(\"a  b c\",\" \")"
   ]
  },
  {
   "cell_type": "code",
   "execution_count": null,
   "metadata": {},
   "outputs": [],
   "source": [
    "# Done\n",
    "def accuracy(typed, reference):\n",
    "    \"\"\"Return the accuracy (percentage of words typed correctly) of TYPED\n",
    "    when compared to the prefix of REFERENCE that was typed.\n",
    "\n",
    "    >>> accuracy('Cute Dog!', 'Cute Dog.')\n",
    "    50.0\n",
    "    >>> accuracy('A Cute Dog!', 'Cute Dog.')\n",
    "    0.0\n",
    "    >>> accuracy('cute Dog.', 'Cute Dog.')\n",
    "    50.0\n",
    "    >>> accuracy('Cute Dog. I say!', 'Cute Dog.')\n",
    "    50.0\n",
    "    >>> accuracy('Cute', 'Cute Dog.')\n",
    "    100.0\n",
    "    >>> accuracy('', 'Cute Dog.')\n",
    "    0.0\n",
    "    \"\"\"\n",
    "    typed_words = split(typed)\n",
    "    reference_words = split(reference)\n",
    "    # BEGIN PROBLEM 3\n",
    "    \"*** YOUR CODE HERE ***\"\n",
    "    count = 0\n",
    "\n",
    "    if len(typed_words) == 0 or len(reference_words) == 0:\n",
    "        return 0.0\n",
    "\n",
    "    if len(typed_words) <= len(reference_words):\n",
    "        for i in range(len(typed_words)):\n",
    "            if typed_words[i] == reference_words[i]:\n",
    "                count += 1\n",
    "    elif len(typed_words) > len(reference_words):\n",
    "        for i in range(len(typed_words)-((len(typed_words)-len(reference_words)))):\n",
    "            if typed_words[i] == reference_words[i]:\n",
    "                count += 1 \n",
    "    \n",
    "    return (count/len(typed_words))*100.0 \n",
    "\n",
    "    # tried: split with two input\n",
    "    # tried: for loop the typed and reference to count double whitespace to -count\n",
    "    # tried: make returned list coming with a whitespace when there are two in the string taken in. then compare\n",
    "    # double whitespaces are not a problem.\n",
    "    # trying: i understand the calculation rule wrongly for \"a  b  c  d\", \"b  a  c  d\" why this 50.0?"
   ]
  },
  {
   "cell_type": "code",
   "execution_count": 16,
   "metadata": {},
   "outputs": [
    {
     "data": {
      "text/plain": [
       "5"
      ]
     },
     "execution_count": 16,
     "metadata": {},
     "output_type": "execute_result"
    }
   ],
   "source": [
    "len(\"a b c\")"
   ]
  },
  {
   "cell_type": "code",
   "execution_count": 17,
   "metadata": {},
   "outputs": [],
   "source": [
    "def wpm(typed, elapsed):\n",
    "    \"\"\"Return the words-per-minute (WPM) of the TYPED string.\"\"\"\n",
    "    assert elapsed > 0, 'Elapsed time must be positive'\n",
    "    # BEGIN PROBLEM 4\n",
    "    \"*** YOUR CODE HERE ***\"\n",
    "    words_per_minute = len(typed)/5/(elapsed/60)\n",
    "\n",
    "    return words_per_minute"
   ]
  },
  {
   "cell_type": "code",
   "execution_count": 18,
   "metadata": {},
   "outputs": [
    {
     "data": {
      "text/plain": [
       "3.0"
      ]
     },
     "execution_count": 18,
     "metadata": {},
     "output_type": "execute_result"
    }
   ],
   "source": [
    "wpm(\"a b c\", 20)"
   ]
  },
  {
   "cell_type": "code",
   "execution_count": 50,
   "metadata": {},
   "outputs": [],
   "source": [
    "# Problem 5\n",
    "diff_value_list = []\n",
    "user_word = \"cul\"\n",
    "valid_words = [\"culture\", \"cult\", \"cultivate\"]\n",
    "diff_function = lambda w1, w2, limit: abs(len(w2) - len(w1))\n",
    "limit = 10\n",
    "for i in range(len(valid_words)):\n",
    "    diff_value_list = diff_value_list + [[valid_words[i],diff_function(user_word,valid_words[i],limit)]]\n",
    "\n",
    "\n"
   ]
  },
  {
   "cell_type": "code",
   "execution_count": 55,
   "metadata": {},
   "outputs": [],
   "source": [
    "diff_value_list = diff_value_list+[['cultivate1', 1]]"
   ]
  },
  {
   "cell_type": "code",
   "execution_count": 56,
   "metadata": {},
   "outputs": [
    {
     "data": {
      "text/plain": [
       "['cult', 1]"
      ]
     },
     "execution_count": 56,
     "metadata": {},
     "output_type": "execute_result"
    }
   ],
   "source": [
    "min(diff_value_list, key=lambda item: item[1])"
   ]
  },
  {
   "cell_type": "code",
   "execution_count": 57,
   "metadata": {},
   "outputs": [
    {
     "data": {
      "text/plain": [
       "[['culture', 4],\n",
       " ['cult', 1],\n",
       " ['cultivate', 6],\n",
       " ['cultivate1', 6],\n",
       " ['cultivate1', 1]]"
      ]
     },
     "execution_count": 57,
     "metadata": {},
     "output_type": "execute_result"
    }
   ],
   "source": [
    "diff_value_list"
   ]
  },
  {
   "cell_type": "code",
   "execution_count": null,
   "metadata": {},
   "outputs": [],
   "source": [
    "# when there are multiple strings with the same lowest diff_value,\n",
    "# the earlier one will be returned"
   ]
  },
  {
   "cell_type": "code",
   "execution_count": null,
   "metadata": {},
   "outputs": [],
   "source": [
    "# correct problem 5\n",
    "def autocorrect(user_word, valid_words, diff_function, limit):\n",
    "    \"\"\"Returns the element of VALID_WORDS that has the smallest difference\n",
    "    from USER_WORD. Instead returns USER_WORD if that difference is greater\n",
    "    than LIMIT.\n",
    "    \"\"\"\n",
    "    # BEGIN PROBLEM 5\n",
    "    \"*** YOUR CODE HERE ***\"\n",
    "    # TODO: calculate diff_value for each valid word\n",
    "    diff_value_list = []\n",
    "    for i in range(len(valid_words)):\n",
    "        diff_value_list = diff_value_list + [[valid_words[i],diff_function(user_word,valid_words[i],limit)]]\n",
    "\n",
    "    # TODO: control\n",
    "    ## TODO if the user_word is contained inside the valid_words list, autocorrect returns that word. \"\"\"\n",
    "    if user_word in valid_words:\n",
    "        return user_word\n",
    "\n",
    "    ## TODO Otherwise, autocorrect returns the word from valid_words that has the lowest difference from the provided user_word based on the diff_function.\n",
    "    elif min(diff_value_list, key=lambda item: item[1])[1] <= limit:\n",
    "        return min(diff_value_list, key=lambda item: item[1])[0] # diff_value is in index 1; then, string is in index 0 \n",
    "\n",
    "    ## TODO if the lowest difference between user_word and any of the valid_words is greater than limit, then user_word is returned instead.\"\"\"\n",
    "    elif min(diff_value_list, key=lambda item: item[1])[1] > limit:\n",
    "        return user_word\n",
    "    \n",
    "    ## TODO if multiple strings have the same lowest difference according to the diff_function, autocorrect should return the string that appears first in valid_words.\n",
    "    # this is already the default behaviour of the 2nd if-condition\n",
    "\n",
    "    # END PROBLEM 5"
   ]
  },
  {
   "cell_type": "code",
   "execution_count": 61,
   "metadata": {},
   "outputs": [
    {
     "data": {
      "text/plain": [
       "0"
      ]
     },
     "execution_count": 61,
     "metadata": {},
     "output_type": "execute_result"
    }
   ],
   "source": [
    "start = \"a\"\n",
    "len(start[1:])"
   ]
  },
  {
   "cell_type": "code",
   "execution_count": 83,
   "metadata": {},
   "outputs": [],
   "source": [
    "# wrong\n",
    "def shifty_shifts(start, goal, limit):\n",
    "    if len(goal) == 0 and len(start) >= 0:\n",
    "        return len(start)\n",
    "    elif len(start) == 0 and len(goal) >= 0:\n",
    "        return len(goal)\n",
    "    elif start[0] != goal[0]: # matching condition: comparing the last letter using -1 index\n",
    "        return shifty_shifts(start[1:],goal[1:],limit) + 1 # learning: string[] is up to the 2nd input of index\n",
    "    elif start[0] == goal[0]: # don't +1\n",
    "        return shifty_shifts(start[1:],goal[1:],limit)"
   ]
  },
  {
   "cell_type": "code",
   "execution_count": 84,
   "metadata": {},
   "outputs": [
    {
     "data": {
      "text/plain": [
       "13"
      ]
     },
     "execution_count": 84,
     "metadata": {},
     "output_type": "execute_result"
    }
   ],
   "source": [
    "shifty_shifts(\"arosenopqrstuvwxyz\", \"arose\", 4)"
   ]
  },
  {
   "cell_type": "code",
   "execution_count": 88,
   "metadata": {},
   "outputs": [],
   "source": [
    "# correct\n",
    "def shifty_shifts(start, goal, limit):\n",
    "    \"\"\"A diff function for autocorrect that determines how many letters\n",
    "    in START need to be substituted to create GOAL, then adds the difference in\n",
    "    their lengths.\n",
    "    \"\"\"\n",
    "\n",
    "    if limit == 0 and start == goal:\n",
    "        return 0\n",
    "    elif limit == 0:\n",
    "        return max(len(start),len(goal))\n",
    "    elif limit > 0 and (len(start) == 0 or len(goal) == 0): # when one hits zero and limit is not fully consumed. return the remaining string length\n",
    "        return max(len(start),len(goal))\n",
    "    elif limit > 0 and start[0] != goal[0]: # matching condition: comparing the last letter using -1 index\n",
    "        limit -= 1\n",
    "        return shifty_shifts(start[1:],goal[1:],limit) + 1 # learning: string[] is up to the 2nd input of index\n",
    "    elif limit > 0 and start[0] == goal[0]: # don't +1\n",
    "        return shifty_shifts(start[1:],goal[1:],limit)\n",
    "    \n",
    "    # END PROBLEM 6\n",
    "\n",
    "    # scenario\n",
    "        #1: limit used up\n",
    "            #1.1: [start == goal] -> just add the remaining len(start) or len(goal) to count\n",
    "            #1.2: [start > goal] -> just add the remaining len(start) to count\n",
    "            #1.3: [goal > start] -> just add the remaining len(goal) to count\n",
    "        #2: limit not used up <- so far the number of letter difference is below limit. limit = 3; ABC vs CBC\n",
    "            #2.1: [start == goal] exactly same string -> return 0\n",
    "            #2.2: [string lengths are diff] still get letters left -> go on to check if the remaining are different\n",
    "                # 2.2.1: [start > goal] when a goal is reduced to 0, add the length of start to count\n",
    "                # 2.2.2: [goal > start] when a start is reduced to 0, add the length of goal to count\n",
    "            #2.3: no letter left -> just return the count\n",
    "\n"
   ]
  },
  {
   "cell_type": "code",
   "execution_count": null,
   "metadata": {},
   "outputs": [],
   "source": [
    "# Why do I get stuck for like 3 hours?\n",
    "# Reason:\n",
    "# Obvious reason: I didn't use limit in my function.\n",
    "# Deeper reason: I am weak at identifying different scenarios for crafting control statement!\n",
    "\n",
    "# this question is tricky at finding this case:\n",
    "       # if limit == 0 and start == goal: # Case 1: strings are the same and limit == 0\n",
    "       # return 0 \n",
    "\n",
    "# Learning: you need to think about if-condition as a control gate. what to flow through in what iteration in recursion?\n",
    "# a question to think about :)#"
   ]
  },
  {
   "cell_type": "code",
   "execution_count": null,
   "metadata": {},
   "outputs": [],
   "source": [
    "#Problem 7\n",
    "\n",
    "# when we need to sub one letter in shifty_shifts,\n",
    "# call this function and we get #letter to be sub\n",
    "\n"
   ]
  },
  {
   "cell_type": "code",
   "execution_count": 99,
   "metadata": {},
   "outputs": [
    {
     "data": {
      "text/plain": [
       "'Three'"
      ]
     },
     "execution_count": 99,
     "metadata": {},
     "output_type": "execute_result"
    }
   ],
   "source": [
    "# Problem 9\n",
    "game = [[\"1\",[\"One\",\"Two\",\"Three\"],\"3\"]]\n",
    "game[0][1][2]"
   ]
  },
  {
   "cell_type": "code",
   "execution_count": 109,
   "metadata": {},
   "outputs": [],
   "source": [
    "times_per_player = [[1, 3, 5], [2, 5, 6]]\n",
    "\n",
    "times = []\n",
    "for i in range(len(times_per_player)):\n",
    "    user_ls = []\n",
    "    for j in range(len(times_per_player[i])):\n",
    "        if j+1 < len(times_per_player[i]):\n",
    "            user_ls = user_ls + [times_per_player[i][j+1] - times_per_player[i][j]]\n",
    "    times = times + [user_ls]"
   ]
  },
  {
   "cell_type": "code",
   "execution_count": 110,
   "metadata": {},
   "outputs": [
    {
     "data": {
      "text/plain": [
       "[[2, 2], [3, 1]]"
      ]
     },
     "execution_count": 110,
     "metadata": {},
     "output_type": "execute_result"
    }
   ],
   "source": [
    "times"
   ]
  },
  {
   "cell_type": "code",
   "execution_count": 111,
   "metadata": {},
   "outputs": [
    {
     "data": {
      "text/plain": [
       "1"
      ]
     },
     "execution_count": 111,
     "metadata": {},
     "output_type": "execute_result"
    }
   ],
   "source": [
    "min([1,2,3,4])"
   ]
  },
  {
   "cell_type": "code",
   "execution_count": 112,
   "metadata": {},
   "outputs": [
    {
     "data": {
      "text/plain": [
       "[[]]"
      ]
     },
     "execution_count": 112,
     "metadata": {},
     "output_type": "execute_result"
    }
   ],
   "source": [
    "word_ls = []\n",
    "word_ls = word_ls + [[]]\n",
    "word_ls\n"
   ]
  },
  {
   "cell_type": "code",
   "execution_count": 113,
   "metadata": {},
   "outputs": [
    {
     "data": {
      "text/plain": [
       "[[], []]"
      ]
     },
     "execution_count": 113,
     "metadata": {},
     "output_type": "execute_result"
    }
   ],
   "source": [
    "word_ls = word_ls + [[]]\n",
    "word_ls"
   ]
  },
  {
   "cell_type": "code",
   "execution_count": 128,
   "metadata": {},
   "outputs": [],
   "source": [
    "word_ls = []\n",
    "player_indices = range(6)\n",
    "for _ in player_indices:\n",
    "    word_ls = word_ls + [[]]"
   ]
  },
  {
   "cell_type": "code",
   "execution_count": 129,
   "metadata": {},
   "outputs": [
    {
     "data": {
      "text/plain": [
       "[[], [], [], [], [], []]"
      ]
     },
     "execution_count": 129,
     "metadata": {},
     "output_type": "execute_result"
    }
   ],
   "source": [
    "player_indices\n",
    "word_ls"
   ]
  },
  {
   "cell_type": "code",
   "execution_count": 132,
   "metadata": {},
   "outputs": [
    {
     "data": {
      "text/plain": [
       "[]"
      ]
     },
     "execution_count": 132,
     "metadata": {},
     "output_type": "execute_result"
    }
   ],
   "source": [
    "word_ls[1]"
   ]
  },
  {
   "cell_type": "code",
   "execution_count": 133,
   "metadata": {},
   "outputs": [],
   "source": [
    "word_ls[1] = word_ls[1] + [[\"word\"]]"
   ]
  },
  {
   "cell_type": "code",
   "execution_count": 134,
   "metadata": {},
   "outputs": [
    {
     "data": {
      "text/plain": [
       "[[], [['word']], [], [], [], []]"
      ]
     },
     "execution_count": 134,
     "metadata": {},
     "output_type": "execute_result"
    }
   ],
   "source": [
    "word_ls"
   ]
  },
  {
   "cell_type": "code",
   "execution_count": null,
   "metadata": {},
   "outputs": [],
   "source": [
    "# Problem 10\n",
    "# Learning: for-loop and list\n",
    "# 1: sometimes you need to empty list\n",
    "# 2: pretend I am a computer. What is my step to get the answer? And type the steps down.\n",
    "    # then try to think how to break down further or translate into programming language\n",
    "    # then start writing, fix the small parts using test cases"
   ]
  }
 ],
 "metadata": {
  "kernelspec": {
   "display_name": "Python 3",
   "language": "python",
   "name": "python3"
  },
  "language_info": {
   "codemirror_mode": {
    "name": "ipython",
    "version": 3
   },
   "file_extension": ".py",
   "mimetype": "text/x-python",
   "name": "python",
   "nbconvert_exporter": "python",
   "pygments_lexer": "ipython3",
   "version": "3.8.3"
  }
 },
 "nbformat": 4,
 "nbformat_minor": 4
}
